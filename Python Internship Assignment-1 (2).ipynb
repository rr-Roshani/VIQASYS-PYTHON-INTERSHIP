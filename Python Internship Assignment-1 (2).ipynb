{
 "cells": [
  {
   "cell_type": "markdown",
   "metadata": {},
   "source": [
    "___\n",
    "\n",
    "<a href='https://viqasys.com/wp-content/uploads/2021/07/ns1.png'><img src='https://viqasys.com/wp-content/uploads/2021/07/ns1.png'/></a>\n",
    "___\n",
    "<center><em>Content Copyright VIQASYS INNOVATIONS PVT LTD.</em></center>\n",
    "\n",
    "# Assignment 1"
   ]
  },
  {
   "cell_type": "markdown",
   "metadata": {},
   "source": [
    "# Question 1\n",
    "\n",
    "In the below elements, identify which of them are values or expressions. Values can be integers or strings, while expressions will be mathematical operators or combinations thereof.\n",
    "'hello', \n",
    "-87., ), o, lu, alu, ssion)'(Value))str\" (Value)"
   ]
  },
  {
   "cell_type": "markdown",
   "metadata": {},
   "source": [
    "ANS:-\n",
    "element to identify whether it's a value or an expression:-\n",
    "'hello' (String Value)\n",
    "-87. (Float Value)\n",
    "'o' (String Value)\n",
    "'lu' (String Value)\n",
    "'alu' (String Value)\n",
    "'ssion)'(Value) - Expression (combination of characters, possibly intended as a string)\n",
    "'str\" - Value (string)\n",
    "\n",
    "Values: 'hello', -87., o, lu, alu, str\"\n",
    "Expressions: ), ssion)'(Value), str\""
   ]
  },
  {
   "cell_type": "markdown",
   "metadata": {},
   "source": [
    "## Question 2\n",
    "\n",
    "Explain the difference between a string and a variable.\n"
   ]
  },
  {
   "cell_type": "markdown",
   "metadata": {},
   "source": [
    "ANS:-\n",
    "string:- \n",
    "         In Python Programming Language, string is a data type used to represent text.\n",
    "String is also a sequence of characters enclosed in quotation marks (single,double or triple). \n",
    "Strings are used to store textual information like names, sentences, or any other textual data.\n",
    "For example, \"Hello, world!\", \"This is a string\".\n",
    "\n",
    "variable:-\n",
    "          In Python Programming, a variable, on the other hand, is a name that can refer to any value. \n",
    "It is a storage location in a program that holds data. \n",
    "Variables can store various types of information, including strings. \n",
    "They act as placeholders for different types of values that can be manipulated and used within the program.\n",
    "for example:- x=5.\n",
    "\n",
    "    "
   ]
  },
  {
   "cell_type": "markdown",
   "metadata": {},
   "source": [
    "## Question 3\n",
    "Describe three different data types commonly used in programming"
   ]
  },
  {
   "cell_type": "markdown",
   "metadata": {},
   "source": [
    "ANS:-\n",
    "There are three different data types which is commonly used in programming are:-\n",
    "    1.Integer(int)\n",
    "    2.Floating-Point(float)\n",
    "    3.String\n",
    "1.Integer:-\n",
    "           Integers represent whole numbers without fractions. They can be positive or negative.Integers are used for counting, indexing, and representing whole numbers in programming.\n",
    "for example:-42, -7, 0\n",
    "    \n",
    "2.Floating-Point:-\n",
    "                  Floating-point numbers are used to represent decimal numbers with fractions.Floats are essential for calculations involving decimal precision, like measurements or scientific computations.\n",
    "for Example:- 3.14, -0.01, 6.0\n",
    "\n",
    "3.String:-\n",
    "          Strings are sequences of characters representing textual data.Strings are used to store and manipulate text data, such as names, sentences, and any character-based information in programming.\n",
    "for Example:- \"Hello, World!\", \"Python\"\n",
    "          "
   ]
  },
  {
   "cell_type": "markdown",
   "metadata": {},
   "source": [
    "## Question 4\n",
    "What is an expression made up of? What is the general purpose of expressions?\n"
   ]
  },
  {
   "cell_type": "markdown",
   "metadata": {},
   "source": [
    "ANS:-\n",
    "expression:-\n",
    "            In Python Programming, an expression is made up of a combination of operands and operators,\n",
    "where operands are objects that are operated on, and operators are special symbols that perform arithmetic or \n",
    "logical computations on the operands.\n",
    "\n",
    "The general purpose of expressions is to produce some value or result after being interpreted by the Python interpreter. \n",
    "Expressions can contain identifiers, operators, and operands, and they play a crucial role in performing \n",
    "computations, comparisons, and logical operations within Python programs.\n",
    "\n",
    "        "
   ]
  },
  {
   "cell_type": "markdown",
   "metadata": {},
   "source": [
    "## Question 5\n",
    "\n",
    "Explain the difference between an expression and a statement, using examples if necessary."
   ]
  },
  {
   "cell_type": "markdown",
   "metadata": {},
   "source": [
    "ANS:-\n",
    "\n",
    "The difference between an expression and a statement is following:-\n",
    "Expression:-\n",
    "-An expression comprises values, variables, operators, and function calls, which can be evaluated to derive a single value.\n",
    "-Expressions must be evaluated to produce a result or value.\n",
    "-Examples of expressions encompass mathematical operations like addition (e.g., 2 + 3), function calls such as finding the length of a string (e.g., len(\"hello\")), or variable assignments like assigning a value to a variable (e.g., x = 5).\n",
    "-Expressions can be found on the right-hand side of assignment statements and typically yield a value when assessed.\n",
    "\n",
    "Statement:-\n",
    "-A statement represents an instruction that the Python interpreter executes, embodying a complete action or command.\n",
    "-Unlike expressions, statements do not always produce a value; they are executed for their side effects or to regulate the program's flow.\n",
    "-Illustrations of statements encompass assignment statements (e.g., x = 5), loop statements like iterating through a range of numbers (e.g., for i in range(5):), or conditional statements like checking if a condition holds true (e.g., if x > 0:).\n",
    "-Statements are employed to execute tasks, define control flow, or enact actions within a program.\n"
   ]
  },
  {
   "cell_type": "markdown",
   "metadata": {},
   "source": [
    "## Question 6\n",
    "After running the following code, what does the variable \"bacon\" contain?\n",
    "\n",
    "bacon = 22 \n",
    "\n",
    "bacon + 1"
   ]
  },
  {
   "cell_type": "markdown",
   "metadata": {},
   "source": [
    "ANS:-\n",
    "After running the given code, the variable \"bacon\" will still contain the value 22.\n",
    "bacon + 1: This line adds 1 to the value of \"bacon\" (22),\n",
    "but it does not store the result anywhere or modify the original value of \"bacon\".\n",
    "It's just an expression that evaluates to 23, but it doesn't change the value of \"bacon\"."
   ]
  },
  {
   "cell_type": "markdown",
   "metadata": {},
   "source": [
    "## Question 7\n",
    "Determine the values of the following two terms:<br>\n",
    "'spam' + 'spamspam'<br>\n",
    "'spam' * 3\n",
    "\n"
   ]
  },
  {
   "cell_type": "markdown",
   "metadata": {},
   "source": [
    "ANS:-\n",
    "The values of the given two terms are as follows:\n",
    "\n",
    "'spam' + 'spamspam':- \n",
    "                   This expression concatenates the strings 'spam' and 'spamspam', resulting in 'spamspamspam'.\n",
    "'spam' * 3:-\n",
    "            This expression repeats the string 'spam' three times, resulting in 'spamspamspam'.\n",
    "        \n",
    "Therefore, the values of the two terms are:\n",
    "\n",
    "'spam' + 'spamspam' evaluates to 'spamspamspam'.\n",
    "'spam' * 3 evaluates to 'spamspamspam'."
   ]
  },
  {
   "cell_type": "markdown",
   "metadata": {},
   "source": [
    "## Question 8\n",
    "\n",
    "Why is \"eggs\" a valid variable name while \"100\" is invalid?"
   ]
  },
  {
   "cell_type": "markdown",
   "metadata": {},
   "source": [
    "ANS:-\n",
    "\"Eggs\" is a valid variable name in Python because it follows Python's naming conventions. \n",
    "Variable names in Python must start with a letter (a-z, A-Z) or an underscore (_), and subsequent characters can be letters, numbers, or underscores. \n",
    "Variable names are case-sensitive.\n",
    "\"100\" is an invalid variable name in Python because it starts with a number, violating the naming convention.\n",
    "\n"
   ]
  },
  {
   "cell_type": "markdown",
   "metadata": {},
   "source": [
    "## Question 9\n",
    "\n",
    "List three functions that can be used to obtain the integer, floating-point number, or string version of a value."
   ]
  },
  {
   "cell_type": "markdown",
   "metadata": {},
   "source": [
    "ANS:-\n",
    "The three functions that can be used to obtain the integer, floating-point number, or string version of a value are:\n",
    "int(): This function is utilized to convert a value to an integer.\n",
    "float(): This function is used to convert a value to a floating-point number.\n",
    "str(): This function is utilized to convert a value to a string."
   ]
  },
  {
   "cell_type": "markdown",
   "metadata": {},
   "source": [
    "## Question 10 \n",
    "Explain why the following expression causes an error and suggest how to fix it:<br>\n",
    "'I have eaten ' + 99 + ' burritos.'\n",
    "\n"
   ]
  },
  {
   "cell_type": "markdown",
   "metadata": {},
   "source": [
    "ANS:-\n",
    "'I have eaten'+ 99 +'burritos'. this expression causes an error because\n",
    "Python does not allow concatenation between strings and integers directly.\n",
    "\n",
    "to fix this error, we can convert the integer '99' into a string usig 'str()' function\n",
    "before concatenating it with the other strings. Here is the correct answer of this expression:-\n",
    "'I have eaten ' + str(99) + ' burritos.'\n",
    "\n",
    "This expression will correctly concatenate the strings 'I have eaten ', '99', and ' burritos.', \n",
    "resulting in 'I have eaten 99 burritos.'.\n"
   ]
  },
  {
   "cell_type": "markdown",
   "metadata": {},
   "source": [
    "## Question 11\n",
    "Write a Python program to calculate the sum of two numbers and print the result.\n",
    "gative, or zero."
   ]
  },
  {
   "cell_type": "code",
   "execution_count": 1,
   "metadata": {},
   "outputs": [
    {
     "name": "stdout",
     "output_type": "stream",
     "text": [
      "Enter the first number: 6\n",
      "Enter the second number: 6\n",
      "The sum of 6.0 and 6.0 is: 12.0\n"
     ]
    }
   ],
   "source": [
    "Solution:-\n",
    "num1 = float(input(\"Enter the first number: \"))\n",
    "num2 = float(input(\"Enter the second number: \"))\n",
    "sum_result = num1 + num2\n",
    "print(\"The sum of\", num1, \"and\", num2, \"is:\", sum_result)\n"
   ]
  },
  {
   "cell_type": "markdown",
   "metadata": {},
   "source": [
    "## Question 12\n",
    "Create a Python program that takes the user's name as input and prints a greeting message.\n",
    "\n"
   ]
  },
  {
   "cell_type": "code",
   "execution_count": null,
   "metadata": {},
   "outputs": [],
   "source": [
    "Solution:-\n",
    "Name=input(\"Enter Your Name:-\")\n",
    "print(\"Hello!\",Name,\",Welcome to our programming Language\")"
   ]
  },
  {
   "cell_type": "markdown",
   "metadata": {},
   "source": [
    "## Question 13\n",
    "Write a Python program to calculate the area of a rectangle given its length and width. (Assume length and width are provided as inputs.)\n",
    "\n"
   ]
  },
  {
   "cell_type": "code",
   "execution_count": null,
   "metadata": {},
   "outputs": [],
   "source": [
    "Solution:-\n",
    "length = float(input(\"Enter the length of the rectangle: \"))\n",
    "width = float(input(\"Enter the width of the rectangle: \"))\n",
    "# Calculate the area of the rectangle formula is area=length*width\n",
    "area = length * width\n",
    "print(\"The area of the rectangle is:-\",area)"
   ]
  },
  {
   "cell_type": "markdown",
   "metadata": {},
   "source": [
    "## Question 14\n",
    "Create a Python program that asks the user for their age and prints out a message saying whether they are a child, teenager, or adult based on their age.\n",
    "\n"
   ]
  },
  {
   "cell_type": "code",
   "execution_count": null,
   "metadata": {},
   "outputs": [],
   "source": [
    "Solution:-\n",
    "age = int(input(\"Enter your age: \"))\n",
    "if age < 13:\n",
    "    print(\"You are a child.\")\n",
    "elif age < 20:\n",
    "    print(\"You are a teenager.\")\n",
    "else:\n",
    "    print(\"You are an adult.\")"
   ]
  },
  {
   "cell_type": "markdown",
   "metadata": {},
   "source": [
    "## Question 15\n",
    "Write a Python program to convert temperature from Celsius to Fahrenheit. (Assume Celsius temperature is provided as input.)\n",
    "\n"
   ]
  },
  {
   "cell_type": "code",
   "execution_count": null,
   "metadata": {},
   "outputs": [],
   "source": [
    "Solution:-\n",
    "celsius = float(input(\"Enter the temperature in Celsius:- \"))\n",
    "# Convert Celsius to Fahrenheit formula is Fahrenheit=(Celsius*9/5)+32\n",
    "fahrenheit = (celsius * 9/5) + 32\n",
    "print(\"The temperature in Fahrenheit is:\", fahrenheit)"
   ]
  },
  {
   "cell_type": "markdown",
   "metadata": {},
   "source": [
    "## Question 16\n",
    "Create a Python program that takes the radius of a circle as input and calculates its area. (Assume the value of pi is 3.14.)\n",
    "\n"
   ]
  },
  {
   "cell_type": "code",
   "execution_count": null,
   "metadata": {},
   "outputs": [],
   "source": [
    "Solution:-\n",
    "radius = float(input(\"Enter the radius of the circle: \"))\n",
    "pi = 3.14\n",
    "#formula of area of circle=pi×radius**(pi*radius square)\n",
    "area = pi * (radius ** 2)\n",
    "print(\"The area of the circle with radius\", radius, \"is:-\", area)"
   ]
  },
  {
   "cell_type": "markdown",
   "metadata": {},
   "source": [
    "## Question 17\n",
    "Write a Python program to find the maximum of two numbers entered by the user.\n",
    "\n"
   ]
  },
  {
   "cell_type": "code",
   "execution_count": null,
   "metadata": {},
   "outputs": [],
   "source": [
    "Solution:-\n",
    "num1 = float(input(\"Enter the first number: \"))\n",
    "num2 = float(input(\"Enter the second number: \"))\n",
    "if num1>num2:\n",
    "    print(\"The\",num1,\"is maximum than\", num2)\n",
    "else:\n",
    "    print(\"The\",num2,\"is maximum than\",num1)\n"
   ]
  },
  {
   "cell_type": "markdown",
   "metadata": {},
   "source": [
    "## Question 18\n",
    "Create a Python program that asks the user to enter two numbers and prints out their product.\n",
    "\n"
   ]
  },
  {
   "cell_type": "code",
   "execution_count": null,
   "metadata": {},
   "outputs": [],
   "source": [
    "Solution:-\n",
    "num1 = float(input(\"Enter the first number: \"))\n",
    "num2 = float(input(\"Enter the second number: \"))\n",
    "product = num1 * num2\n",
    "print(\"The product of\", num1, \"and\", num2, \"is:\", product)\n"
   ]
  },
  {
   "cell_type": "markdown",
   "metadata": {},
   "source": [
    "## Question 19\n",
    "Write a Python program that prompts the user to enter a number and then prints whether the number is positive, negative, or zero."
   ]
  },
  {
   "cell_type": "code",
   "execution_count": null,
   "metadata": {},
   "outputs": [],
   "source": [
    "Solution:-\n",
    "num=int(float(\"Enter a number:\"))\n",
    "if num>0:\n",
    " print(num,\"Number is Positive\")\n",
    "elif num<0:\n",
    " print(num,\"Number is Negative\")\n",
    "else:\n",
    " print(num,\"Number is Zero\")\n"
   ]
  }
 ],
 "metadata": {
  "anaconda-cloud": {},
  "kernelspec": {
   "display_name": "Python 3 (ipykernel)",
   "language": "python",
   "name": "python3"
  },
  "language_info": {
   "codemirror_mode": {
    "name": "ipython",
    "version": 3
   },
   "file_extension": ".py",
   "mimetype": "text/x-python",
   "name": "python",
   "nbconvert_exporter": "python",
   "pygments_lexer": "ipython3",
   "version": "3.11.5"
  }
 },
 "nbformat": 4,
 "nbformat_minor": 4
}
